{
 "cells": [
  {
   "cell_type": "code",
   "execution_count": 49,
   "metadata": {},
   "outputs": [],
   "source": [
    "import pandas as pd\n",
    "import numpy as  np\n",
    "from matplotlib import pyplot as plt\n",
    "import plotly as pt\n",
    "import json\n",
    "plt.style.use('ggplot')\n",
    "import seaborn as sns"
   ]
  },
  {
   "cell_type": "code",
   "execution_count": 12,
   "metadata": {},
   "outputs": [],
   "source": [
    "data = pd.read_csv('SBUX_DATA_SATURDAY.csv')"
   ]
  },
  {
   "cell_type": "code",
   "execution_count": 4,
   "metadata": {},
   "outputs": [],
   "source": [
    "pd.set_option('display.max_columns', 500)"
   ]
  },
  {
   "cell_type": "code",
   "execution_count": 9,
   "metadata": {},
   "outputs": [
    {
     "data": {
      "text/html": [
       "<div>\n",
       "<style scoped>\n",
       "    .dataframe tbody tr th:only-of-type {\n",
       "        vertical-align: middle;\n",
       "    }\n",
       "\n",
       "    .dataframe tbody tr th {\n",
       "        vertical-align: top;\n",
       "    }\n",
       "\n",
       "    .dataframe thead th {\n",
       "        text-align: right;\n",
       "    }\n",
       "</style>\n",
       "<table border=\"1\" class=\"dataframe\">\n",
       "  <thead>\n",
       "    <tr style=\"text-align: right;\">\n",
       "      <th></th>\n",
       "      <th>Company Owned</th>\n",
       "      <th>Licensed</th>\n",
       "      <th>County</th>\n",
       "      <th>Store Number</th>\n",
       "      <th>CensusId</th>\n",
       "      <th>State</th>\n",
       "      <th>TotalPop</th>\n",
       "      <th>Men</th>\n",
       "      <th>Women</th>\n",
       "      <th>Hispanic</th>\n",
       "      <th>White</th>\n",
       "      <th>Black</th>\n",
       "      <th>Native</th>\n",
       "      <th>Asian</th>\n",
       "      <th>Pacific</th>\n",
       "      <th>Citizen</th>\n",
       "      <th>Income</th>\n",
       "      <th>IncomeErr</th>\n",
       "      <th>IncomePerCap</th>\n",
       "      <th>IncomePerCapErr</th>\n",
       "      <th>Poverty</th>\n",
       "      <th>ChildPoverty</th>\n",
       "      <th>Professional</th>\n",
       "      <th>Service</th>\n",
       "      <th>Office</th>\n",
       "      <th>Construction</th>\n",
       "      <th>Production</th>\n",
       "      <th>Drive</th>\n",
       "      <th>Carpool</th>\n",
       "      <th>Transit</th>\n",
       "      <th>Walk</th>\n",
       "      <th>OtherTransp</th>\n",
       "      <th>WorkAtHome</th>\n",
       "      <th>MeanCommute</th>\n",
       "      <th>Employed</th>\n",
       "      <th>PrivateWork</th>\n",
       "      <th>PublicWork</th>\n",
       "      <th>SelfEmployed</th>\n",
       "      <th>FamilyWork</th>\n",
       "      <th>Unemployment</th>\n",
       "      <th>stateabbr</th>\n",
       "      <th>incounty</th>\n",
       "      <th>Pop/Location</th>\n",
       "      <th>percentemployed</th>\n",
       "      <th>binary</th>\n",
       "    </tr>\n",
       "  </thead>\n",
       "  <tbody>\n",
       "    <tr>\n",
       "      <th>0</th>\n",
       "      <td>1.0</td>\n",
       "      <td>1.0</td>\n",
       "      <td>Abbeville</td>\n",
       "      <td>2.0</td>\n",
       "      <td>45001</td>\n",
       "      <td>South Carolina</td>\n",
       "      <td>24997</td>\n",
       "      <td>12308</td>\n",
       "      <td>12689</td>\n",
       "      <td>1.2</td>\n",
       "      <td>68.9</td>\n",
       "      <td>27.9</td>\n",
       "      <td>0.1</td>\n",
       "      <td>0.0</td>\n",
       "      <td>0.0</td>\n",
       "      <td>19399</td>\n",
       "      <td>34799.0</td>\n",
       "      <td>2097.0</td>\n",
       "      <td>18112</td>\n",
       "      <td>771</td>\n",
       "      <td>22.5</td>\n",
       "      <td>33.4</td>\n",
       "      <td>25.4</td>\n",
       "      <td>18.6</td>\n",
       "      <td>19.6</td>\n",
       "      <td>11.1</td>\n",
       "      <td>25.3</td>\n",
       "      <td>83.3</td>\n",
       "      <td>10.9</td>\n",
       "      <td>0.2</td>\n",
       "      <td>1.6</td>\n",
       "      <td>1.0</td>\n",
       "      <td>3.0</td>\n",
       "      <td>27.8</td>\n",
       "      <td>9294</td>\n",
       "      <td>80.2</td>\n",
       "      <td>13.5</td>\n",
       "      <td>6.2</td>\n",
       "      <td>0.0</td>\n",
       "      <td>10.7</td>\n",
       "      <td>SC</td>\n",
       "      <td>True</td>\n",
       "      <td>12498.500000</td>\n",
       "      <td>0.371805</td>\n",
       "      <td>1</td>\n",
       "    </tr>\n",
       "    <tr>\n",
       "      <th>1</th>\n",
       "      <td>17.0</td>\n",
       "      <td>18.0</td>\n",
       "      <td>Ada</td>\n",
       "      <td>35.0</td>\n",
       "      <td>16001</td>\n",
       "      <td>Idaho</td>\n",
       "      <td>417501</td>\n",
       "      <td>208879</td>\n",
       "      <td>208622</td>\n",
       "      <td>7.6</td>\n",
       "      <td>85.5</td>\n",
       "      <td>1.1</td>\n",
       "      <td>0.5</td>\n",
       "      <td>2.6</td>\n",
       "      <td>0.2</td>\n",
       "      <td>298836</td>\n",
       "      <td>56356.0</td>\n",
       "      <td>1082.0</td>\n",
       "      <td>28851</td>\n",
       "      <td>622</td>\n",
       "      <td>12.3</td>\n",
       "      <td>13.7</td>\n",
       "      <td>42.4</td>\n",
       "      <td>16.8</td>\n",
       "      <td>25.4</td>\n",
       "      <td>7.2</td>\n",
       "      <td>8.2</td>\n",
       "      <td>79.9</td>\n",
       "      <td>8.0</td>\n",
       "      <td>0.5</td>\n",
       "      <td>2.0</td>\n",
       "      <td>2.8</td>\n",
       "      <td>6.9</td>\n",
       "      <td>20.0</td>\n",
       "      <td>199955</td>\n",
       "      <td>77.2</td>\n",
       "      <td>15.8</td>\n",
       "      <td>6.9</td>\n",
       "      <td>0.1</td>\n",
       "      <td>6.6</td>\n",
       "      <td>ID</td>\n",
       "      <td>True</td>\n",
       "      <td>11928.600000</td>\n",
       "      <td>0.478933</td>\n",
       "      <td>1</td>\n",
       "    </tr>\n",
       "    <tr>\n",
       "      <th>2</th>\n",
       "      <td>0.0</td>\n",
       "      <td>1.0</td>\n",
       "      <td>Adair</td>\n",
       "      <td>1.0</td>\n",
       "      <td>29001</td>\n",
       "      <td>Missouri</td>\n",
       "      <td>25560</td>\n",
       "      <td>12147</td>\n",
       "      <td>13413</td>\n",
       "      <td>2.4</td>\n",
       "      <td>91.5</td>\n",
       "      <td>2.1</td>\n",
       "      <td>0.3</td>\n",
       "      <td>2.2</td>\n",
       "      <td>0.3</td>\n",
       "      <td>20427</td>\n",
       "      <td>37516.0</td>\n",
       "      <td>3100.0</td>\n",
       "      <td>19671</td>\n",
       "      <td>950</td>\n",
       "      <td>26.9</td>\n",
       "      <td>20.0</td>\n",
       "      <td>34.9</td>\n",
       "      <td>20.1</td>\n",
       "      <td>23.8</td>\n",
       "      <td>8.0</td>\n",
       "      <td>13.2</td>\n",
       "      <td>77.3</td>\n",
       "      <td>9.4</td>\n",
       "      <td>0.2</td>\n",
       "      <td>6.8</td>\n",
       "      <td>2.6</td>\n",
       "      <td>3.7</td>\n",
       "      <td>17.4</td>\n",
       "      <td>11096</td>\n",
       "      <td>71.8</td>\n",
       "      <td>22.3</td>\n",
       "      <td>5.9</td>\n",
       "      <td>0.0</td>\n",
       "      <td>7.9</td>\n",
       "      <td>MO</td>\n",
       "      <td>True</td>\n",
       "      <td>25560.000000</td>\n",
       "      <td>0.434116</td>\n",
       "      <td>1</td>\n",
       "    </tr>\n",
       "    <tr>\n",
       "      <th>3</th>\n",
       "      <td>32.0</td>\n",
       "      <td>27.0</td>\n",
       "      <td>Adams</td>\n",
       "      <td>68.0</td>\n",
       "      <td>8001</td>\n",
       "      <td>Colorado</td>\n",
       "      <td>471206</td>\n",
       "      <td>237107</td>\n",
       "      <td>234099</td>\n",
       "      <td>38.6</td>\n",
       "      <td>52.1</td>\n",
       "      <td>3.0</td>\n",
       "      <td>0.5</td>\n",
       "      <td>3.7</td>\n",
       "      <td>0.1</td>\n",
       "      <td>295079</td>\n",
       "      <td>58946.0</td>\n",
       "      <td>1016.0</td>\n",
       "      <td>25039</td>\n",
       "      <td>288</td>\n",
       "      <td>13.8</td>\n",
       "      <td>19.1</td>\n",
       "      <td>29.5</td>\n",
       "      <td>18.7</td>\n",
       "      <td>24.5</td>\n",
       "      <td>13.4</td>\n",
       "      <td>13.9</td>\n",
       "      <td>77.6</td>\n",
       "      <td>12.0</td>\n",
       "      <td>3.7</td>\n",
       "      <td>1.2</td>\n",
       "      <td>1.2</td>\n",
       "      <td>4.4</td>\n",
       "      <td>28.8</td>\n",
       "      <td>229743</td>\n",
       "      <td>83.6</td>\n",
       "      <td>11.3</td>\n",
       "      <td>5.0</td>\n",
       "      <td>0.1</td>\n",
       "      <td>7.9</td>\n",
       "      <td>CO</td>\n",
       "      <td>True</td>\n",
       "      <td>6929.500000</td>\n",
       "      <td>0.487564</td>\n",
       "      <td>1</td>\n",
       "    </tr>\n",
       "    <tr>\n",
       "      <th>4</th>\n",
       "      <td>1.0</td>\n",
       "      <td>1.0</td>\n",
       "      <td>Adams</td>\n",
       "      <td>68.0</td>\n",
       "      <td>17001</td>\n",
       "      <td>Illinois</td>\n",
       "      <td>67081</td>\n",
       "      <td>32676</td>\n",
       "      <td>34405</td>\n",
       "      <td>1.4</td>\n",
       "      <td>92.4</td>\n",
       "      <td>3.8</td>\n",
       "      <td>0.1</td>\n",
       "      <td>0.8</td>\n",
       "      <td>0.1</td>\n",
       "      <td>51386</td>\n",
       "      <td>45965.0</td>\n",
       "      <td>1350.0</td>\n",
       "      <td>24380</td>\n",
       "      <td>647</td>\n",
       "      <td>14.4</td>\n",
       "      <td>20.1</td>\n",
       "      <td>29.6</td>\n",
       "      <td>18.3</td>\n",
       "      <td>26.7</td>\n",
       "      <td>7.9</td>\n",
       "      <td>17.5</td>\n",
       "      <td>83.2</td>\n",
       "      <td>8.8</td>\n",
       "      <td>0.6</td>\n",
       "      <td>2.6</td>\n",
       "      <td>1.5</td>\n",
       "      <td>3.2</td>\n",
       "      <td>16.2</td>\n",
       "      <td>32400</td>\n",
       "      <td>83.4</td>\n",
       "      <td>10.7</td>\n",
       "      <td>5.6</td>\n",
       "      <td>0.2</td>\n",
       "      <td>6.8</td>\n",
       "      <td>IL</td>\n",
       "      <td>True</td>\n",
       "      <td>986.485294</td>\n",
       "      <td>0.482998</td>\n",
       "      <td>1</td>\n",
       "    </tr>\n",
       "  </tbody>\n",
       "</table>\n",
       "</div>"
      ],
      "text/plain": [
       "   Company Owned  Licensed     County  Store Number  CensusId           State  \\\n",
       "0            1.0       1.0  Abbeville           2.0     45001  South Carolina   \n",
       "1           17.0      18.0        Ada          35.0     16001           Idaho   \n",
       "2            0.0       1.0      Adair           1.0     29001        Missouri   \n",
       "3           32.0      27.0      Adams          68.0      8001        Colorado   \n",
       "4            1.0       1.0      Adams          68.0     17001        Illinois   \n",
       "\n",
       "   TotalPop     Men   Women  Hispanic  White  Black  Native  Asian  Pacific  \\\n",
       "0     24997   12308   12689       1.2   68.9   27.9     0.1    0.0      0.0   \n",
       "1    417501  208879  208622       7.6   85.5    1.1     0.5    2.6      0.2   \n",
       "2     25560   12147   13413       2.4   91.5    2.1     0.3    2.2      0.3   \n",
       "3    471206  237107  234099      38.6   52.1    3.0     0.5    3.7      0.1   \n",
       "4     67081   32676   34405       1.4   92.4    3.8     0.1    0.8      0.1   \n",
       "\n",
       "   Citizen   Income  IncomeErr  IncomePerCap  IncomePerCapErr  Poverty  \\\n",
       "0    19399  34799.0     2097.0         18112              771     22.5   \n",
       "1   298836  56356.0     1082.0         28851              622     12.3   \n",
       "2    20427  37516.0     3100.0         19671              950     26.9   \n",
       "3   295079  58946.0     1016.0         25039              288     13.8   \n",
       "4    51386  45965.0     1350.0         24380              647     14.4   \n",
       "\n",
       "   ChildPoverty  Professional  Service  Office  Construction  Production  \\\n",
       "0          33.4          25.4     18.6    19.6          11.1        25.3   \n",
       "1          13.7          42.4     16.8    25.4           7.2         8.2   \n",
       "2          20.0          34.9     20.1    23.8           8.0        13.2   \n",
       "3          19.1          29.5     18.7    24.5          13.4        13.9   \n",
       "4          20.1          29.6     18.3    26.7           7.9        17.5   \n",
       "\n",
       "   Drive  Carpool  Transit  Walk  OtherTransp  WorkAtHome  MeanCommute  \\\n",
       "0   83.3     10.9      0.2   1.6          1.0         3.0         27.8   \n",
       "1   79.9      8.0      0.5   2.0          2.8         6.9         20.0   \n",
       "2   77.3      9.4      0.2   6.8          2.6         3.7         17.4   \n",
       "3   77.6     12.0      3.7   1.2          1.2         4.4         28.8   \n",
       "4   83.2      8.8      0.6   2.6          1.5         3.2         16.2   \n",
       "\n",
       "   Employed  PrivateWork  PublicWork  SelfEmployed  FamilyWork  Unemployment  \\\n",
       "0      9294         80.2        13.5           6.2         0.0          10.7   \n",
       "1    199955         77.2        15.8           6.9         0.1           6.6   \n",
       "2     11096         71.8        22.3           5.9         0.0           7.9   \n",
       "3    229743         83.6        11.3           5.0         0.1           7.9   \n",
       "4     32400         83.4        10.7           5.6         0.2           6.8   \n",
       "\n",
       "  stateabbr  incounty  Pop/Location  percentemployed  binary  \n",
       "0        SC      True  12498.500000         0.371805       1  \n",
       "1        ID      True  11928.600000         0.478933       1  \n",
       "2        MO      True  25560.000000         0.434116       1  \n",
       "3        CO      True   6929.500000         0.487564       1  \n",
       "4        IL      True    986.485294         0.482998       1  "
      ]
     },
     "execution_count": 9,
     "metadata": {},
     "output_type": "execute_result"
    }
   ],
   "source": [
    "data.head()"
   ]
  },
  {
   "cell_type": "code",
   "execution_count": 13,
   "metadata": {},
   "outputs": [],
   "source": [
    "dataset = data[['County', 'State', 'Income', 'TotalPop', 'percentemployed', 'binary']]"
   ]
  },
  {
   "cell_type": "code",
   "execution_count": 14,
   "metadata": {},
   "outputs": [
    {
     "data": {
      "text/html": [
       "<div>\n",
       "<style scoped>\n",
       "    .dataframe tbody tr th:only-of-type {\n",
       "        vertical-align: middle;\n",
       "    }\n",
       "\n",
       "    .dataframe tbody tr th {\n",
       "        vertical-align: top;\n",
       "    }\n",
       "\n",
       "    .dataframe thead th {\n",
       "        text-align: right;\n",
       "    }\n",
       "</style>\n",
       "<table border=\"1\" class=\"dataframe\">\n",
       "  <thead>\n",
       "    <tr style=\"text-align: right;\">\n",
       "      <th></th>\n",
       "      <th>County</th>\n",
       "      <th>State</th>\n",
       "      <th>Income</th>\n",
       "      <th>TotalPop</th>\n",
       "      <th>percentemployed</th>\n",
       "      <th>binary</th>\n",
       "    </tr>\n",
       "  </thead>\n",
       "  <tbody>\n",
       "    <tr>\n",
       "      <th>0</th>\n",
       "      <td>Abbeville</td>\n",
       "      <td>South Carolina</td>\n",
       "      <td>34799.0</td>\n",
       "      <td>24997</td>\n",
       "      <td>0.371805</td>\n",
       "      <td>1</td>\n",
       "    </tr>\n",
       "    <tr>\n",
       "      <th>1</th>\n",
       "      <td>Ada</td>\n",
       "      <td>Idaho</td>\n",
       "      <td>56356.0</td>\n",
       "      <td>417501</td>\n",
       "      <td>0.478933</td>\n",
       "      <td>1</td>\n",
       "    </tr>\n",
       "    <tr>\n",
       "      <th>2</th>\n",
       "      <td>Adair</td>\n",
       "      <td>Missouri</td>\n",
       "      <td>37516.0</td>\n",
       "      <td>25560</td>\n",
       "      <td>0.434116</td>\n",
       "      <td>1</td>\n",
       "    </tr>\n",
       "    <tr>\n",
       "      <th>3</th>\n",
       "      <td>Adams</td>\n",
       "      <td>Colorado</td>\n",
       "      <td>58946.0</td>\n",
       "      <td>471206</td>\n",
       "      <td>0.487564</td>\n",
       "      <td>1</td>\n",
       "    </tr>\n",
       "    <tr>\n",
       "      <th>4</th>\n",
       "      <td>Adams</td>\n",
       "      <td>Illinois</td>\n",
       "      <td>45965.0</td>\n",
       "      <td>67081</td>\n",
       "      <td>0.482998</td>\n",
       "      <td>1</td>\n",
       "    </tr>\n",
       "  </tbody>\n",
       "</table>\n",
       "</div>"
      ],
      "text/plain": [
       "      County           State   Income  TotalPop  percentemployed  binary\n",
       "0  Abbeville  South Carolina  34799.0     24997         0.371805       1\n",
       "1        Ada           Idaho  56356.0    417501         0.478933       1\n",
       "2      Adair        Missouri  37516.0     25560         0.434116       1\n",
       "3      Adams        Colorado  58946.0    471206         0.487564       1\n",
       "4      Adams        Illinois  45965.0     67081         0.482998       1"
      ]
     },
     "execution_count": 14,
     "metadata": {},
     "output_type": "execute_result"
    }
   ],
   "source": [
    "dataset.head()"
   ]
  },
  {
   "cell_type": "code",
   "execution_count": 66,
   "metadata": {},
   "outputs": [],
   "source": [
    "yes = dataset.iloc[:500]"
   ]
  },
  {
   "cell_type": "code",
   "execution_count": 67,
   "metadata": {},
   "outputs": [],
   "source": [
    "no = dataset.iloc[-500:]"
   ]
  },
  {
   "cell_type": "code",
   "execution_count": 68,
   "metadata": {},
   "outputs": [],
   "source": [
    "dataset = pd.concat([yes, no], axis = 0)"
   ]
  },
  {
   "cell_type": "code",
   "execution_count": 127,
   "metadata": {},
   "outputs": [],
   "source": [
    "X = dataset.iloc[:, [2, 4]].values\n",
    "y = dataset.iloc[:,5].values"
   ]
  },
  {
   "cell_type": "code",
   "execution_count": 149,
   "metadata": {},
   "outputs": [],
   "source": [
    "from sklearn.model_selection import train_test_split\n",
    "X_train, X_test, y_train, y_test = train_test_split(X, y, test_size=.5)"
   ]
  },
  {
   "cell_type": "code",
   "execution_count": 150,
   "metadata": {},
   "outputs": [],
   "source": [
    "from sklearn.preprocessing import StandardScaler\n",
    "sc_X = StandardScaler()\n",
    "X_train = sc_X.fit_transform(X_train)\n",
    "X_test = sc_X.transform(X_test)"
   ]
  },
  {
   "cell_type": "code",
   "execution_count": 151,
   "metadata": {},
   "outputs": [
    {
     "data": {
      "text/plain": [
       "LogisticRegression(C=1.0, class_weight=None, dual=False, fit_intercept=True,\n",
       "                   intercept_scaling=1, l1_ratio=None, max_iter=100,\n",
       "                   multi_class='auto', n_jobs=None, penalty='l2',\n",
       "                   random_state=0, solver='lbfgs', tol=0.0001, verbose=0,\n",
       "                   warm_start=False)"
      ]
     },
     "execution_count": 151,
     "metadata": {},
     "output_type": "execute_result"
    }
   ],
   "source": [
    "from sklearn.linear_model import LogisticRegression\n",
    "classifier = LogisticRegression(random_state=0)\n",
    "classifier.fit(X_train, y_train)"
   ]
  },
  {
   "cell_type": "code",
   "execution_count": 152,
   "metadata": {},
   "outputs": [],
   "source": [
    "y_pred = classifier.predict(X_test)"
   ]
  },
  {
   "cell_type": "code",
   "execution_count": 153,
   "metadata": {},
   "outputs": [],
   "source": [
    "from sklearn.metrics import confusion_matrix\n",
    "cm = confusion_matrix(y_test, y_pred)"
   ]
  },
  {
   "cell_type": "code",
   "execution_count": 154,
   "metadata": {},
   "outputs": [
    {
     "data": {
      "text/plain": [
       "array([[162,  91],\n",
       "       [ 91, 156]])"
      ]
     },
     "execution_count": 154,
     "metadata": {},
     "output_type": "execute_result"
    }
   ],
   "source": [
    "cm"
   ]
  },
  {
   "cell_type": "code",
   "execution_count": 155,
   "metadata": {},
   "outputs": [
    {
     "data": {
      "text/plain": [
       "500"
      ]
     },
     "execution_count": 155,
     "metadata": {},
     "output_type": "execute_result"
    }
   ],
   "source": [
    "np.sum(cm)"
   ]
  },
  {
   "cell_type": "code",
   "execution_count": 157,
   "metadata": {},
   "outputs": [
    {
     "data": {
      "text/plain": [
       "0.636"
      ]
     },
     "execution_count": 157,
     "metadata": {},
     "output_type": "execute_result"
    }
   ],
   "source": [
    "#Accuracy\n",
    "(cm[0][0] + cm[1][1])/500"
   ]
  },
  {
   "cell_type": "code",
   "execution_count": 160,
   "metadata": {},
   "outputs": [
    {
     "name": "stderr",
     "output_type": "stream",
     "text": [
      "'c' argument looks like a single numeric RGB or RGBA sequence, which should be avoided as value-mapping will have precedence in case its length matches with 'x' & 'y'.  Please use a 2-D array with a single row if you really want to specify the same RGB or RGBA value for all points.\n",
      "'c' argument looks like a single numeric RGB or RGBA sequence, which should be avoided as value-mapping will have precedence in case its length matches with 'x' & 'y'.  Please use a 2-D array with a single row if you really want to specify the same RGB or RGBA value for all points.\n"
     ]
    },
    {
     "data": {
      "image/png": "[encoded data removed]",
      "text/plain": [
       "<Figure size 432x288 with 1 Axes>"
      ]
     },
     "metadata": {},
     "output_type": "display_data"
    }
   ],
   "source": [
    "from matplotlib.colors import ListedColormap\n",
    "X_set, y_set = X_train, y_train\n",
    "X1, X2 = np.meshgrid(np.arange(start = X_set[:, 0].min() -1, stop = X_set[:, 0].max() + 1, step = .01),\n",
    "                     np.arange(start = X_set[:, 1].min() -1, stop = X_set[:, 1].max() + 1, step = .01))\n",
    "plt.contourf(X1, X2, classifier.predict(np.array([X1.ravel(), X2.ravel()]).T).reshape(X1.shape), \n",
    "                                       alpha = .75, cmap = ListedColormap(('ivory', '#00704A')))\n",
    "plt.xlim(X1.min(), X1.max())\n",
    "plt.ylim(X2.min(), X2.max())\n",
    "\n",
    "for i, j in enumerate(np.unique(y_set)):\n",
    "    plt.scatter(X_set[y_set == j, 0], X_set[y_set == j, 1],\n",
    "               c = ListedColormap(('ivory', 'green'))(i), label = j)\n",
    "\n",
    "plt.title('Logistic Regression (Training Set)')\n",
    "plt.xlabel('Household Income')\n",
    "plt.ylabel('Percent Employed')\n",
    "plt.show()\n",
    "    \n",
    "\n",
    "\n"
   ]
  },
  {
   "cell_type": "code",
   "execution_count": 161,
   "metadata": {},
   "outputs": [
    {
     "name": "stderr",
     "output_type": "stream",
     "text": [
      "'c' argument looks like a single numeric RGB or RGBA sequence, which should be avoided as value-mapping will have precedence in case its length matches with 'x' & 'y'.  Please use a 2-D array with a single row if you really want to specify the same RGB or RGBA value for all points.\n",
      "'c' argument looks like a single numeric RGB or RGBA sequence, which should be avoided as value-mapping will have precedence in case its length matches with 'x' & 'y'.  Please use a 2-D array with a single row if you really want to specify the same RGB or RGBA value for all points.\n"
     ]
    },
    {
     "data": {
      "image/png": "[encoded data removed]",
      "text/plain": [
       "<Figure size 432x288 with 1 Axes>"
      ]
     },
     "metadata": {},
     "output_type": "display_data"
    }
   ],
   "source": [
    "from matplotlib.colors import ListedColormap\n",
    "X_set, y_set = X_test, y_test\n",
    "X1, X2 = np.meshgrid(np.arange(start = X_set[:, 0].min() -1, stop = X_set[:, 0].max() + 1, step = .01),\n",
    "                     np.arange(start = X_set[:, 1].min() -1, stop = X_set[:, 1].max() + 1, step = .01))\n",
    "plt.contourf(X1, X2, classifier.predict(np.array([X1.ravel(), X2.ravel()]).T).reshape(X1.shape), \n",
    "                                       alpha = .75, cmap = ListedColormap(('ivory', '#00704A')))\n",
    "plt.xlim(X1.min(), X1.max())\n",
    "plt.ylim(X2.min(), X2.max())\n",
    "\n",
    "for i, j in enumerate(np.unique(y_set)):\n",
    "    plt.scatter(X_set[y_set == j, 0], X_set[y_set == j, 1],\n",
    "               c = ListedColormap(('ivory', 'green'))(i), label = j)\n",
    "\n",
    "plt.title('Logistic Regression (Test Set)')\n",
    "plt.xlabel('Household Income')\n",
    "plt.ylabel('Percent Employed')\n",
    "plt.show()"
   ]
  },
  {
   "cell_type": "code",
   "execution_count": null,
   "metadata": {},
   "outputs": [],
   "source": []
  }
 ],
 "metadata": {
  "kernelspec": {
   "display_name": "Python 3",
   "language": "python",
   "name": "python3"
  },
  "language_info": {
   "codemirror_mode": {
    "name": "ipython",
    "version": 3
   },
   "file_extension": ".py",
   "mimetype": "text/x-python",
   "name": "python",
   "nbconvert_exporter": "python",
   "pygments_lexer": "ipython3",
   "version": "3.7.6"
  }
 },
 "nbformat": 4,
 "nbformat_minor": 4
}
